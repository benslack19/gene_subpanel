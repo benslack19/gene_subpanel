{
 "cells": [
  {
   "cell_type": "markdown",
   "metadata": {},
   "source": [
    "**Gene subpaneling**\n",
    "\n",
    "The purpose of the following code is to cluster genes into sub-panels. It is also practice and application of the following:\n",
    "- using Python to access web data\n",
    "- using Python to create and control SQL-based databaseses\n",
    "- using Python/sci-kit learn to run k-means"
   ]
  },
  {
   "cell_type": "code",
   "execution_count": 1,
   "metadata": {
    "collapsed": true
   },
   "outputs": [],
   "source": [
    "# Import packages\n",
    "import os\n",
    "import pandas as pd\n",
    "import matplotlib.pyplot as plt\n",
    "import seaborn as sns\n",
    "import numpy as np\n",
    "% matplotlib inline\n",
    "\n",
    "import re\n",
    "\n",
    "# using the mygene.info API\n",
    "import urllib\n",
    "import json\n",
    "import sqlite3"
   ]
  },
  {
   "cell_type": "code",
   "execution_count": 2,
   "metadata": {},
   "outputs": [
    {
     "name": "stdout",
     "output_type": "stream",
     "text": [
      "C:\\Users\\Benjamin.Lacar\\Documents\\Box\\Box Sync\\BL (Benjamin.Lacar@fluidigm.com)\\Juno_AccessArray\\Niagara\\DDR_geneAnnotation\n"
     ]
    }
   ],
   "source": [
    "# set the right directory\n",
    "path2 = 'C:\\\\Users\\\\Benjamin.Lacar\\\\Documents\\\\Box\\\\Box Sync\\\\BL (Benjamin.Lacar@fluidigm.com)\\\\Juno_AccessArray\\\\Niagara\\\\DDR_geneAnnotation'\n",
    "os.chdir(path2) \n",
    "cwd = os.getcwd()\n",
    "print(cwd)"
   ]
  },
  {
   "cell_type": "markdown",
   "metadata": {},
   "source": [
    "## Import new gene list and filter by PMID (publication) mentions."
   ]
  },
  {
   "cell_type": "code",
   "execution_count": 3,
   "metadata": {
    "collapsed": true
   },
   "outputs": [],
   "source": [
    "dfGM = pd.read_excel('C:\\\\Users\\\\Benjamin.Lacar\\\\Documents\\\\Box\\\\Box Sync\\\\BL (Benjamin.Lacar@fluidigm.com)\\\\Juno_AccessArray\\\\Niagara\\\\MeetingWTom_170811\\\\fluidigm_072517.xlsx')"
   ]
  },
  {
   "cell_type": "code",
   "execution_count": 4,
   "metadata": {
    "collapsed": true
   },
   "outputs": [],
   "source": [
    "# dfGM.set_index('MM', inplace=True)"
   ]
  },
  {
   "cell_type": "code",
   "execution_count": 5,
   "metadata": {
    "collapsed": true
   },
   "outputs": [
    {
     "data": {
      "text/html": [
       "<div>\n",
       "<style>\n",
       "    .dataframe thead tr:only-child th {\n",
       "        text-align: right;\n",
       "    }\n",
       "\n",
       "    .dataframe thead th {\n",
       "        text-align: left;\n",
       "    }\n",
       "\n",
       "    .dataframe tbody tr th {\n",
       "        vertical-align: top;\n",
       "    }\n",
       "</style>\n",
       "<table border=\"1\" class=\"dataframe\">\n",
       "  <thead>\n",
       "    <tr style=\"text-align: right;\">\n",
       "      <th></th>\n",
       "      <th>MM</th>\n",
       "      <th>gene</th>\n",
       "      <th>transcript_ length(bp)</th>\n",
       "      <th>manual_ review</th>\n",
       "      <th>comments</th>\n",
       "      <th>disease_ related</th>\n",
       "      <th>gene_disease_ta_pmid_count</th>\n",
       "      <th>gene_disease_ta_or_keywords_pmid_count</th>\n",
       "      <th>gene_disease_full_pmid_count</th>\n",
       "      <th>average_mentions_per_pmid_gene_diease_full</th>\n",
       "      <th>...</th>\n",
       "      <th>Unnamed: 99</th>\n",
       "      <th>Unnamed: 100</th>\n",
       "      <th>Unnamed: 101</th>\n",
       "      <th>Unnamed: 102</th>\n",
       "      <th>Unnamed: 103</th>\n",
       "      <th>Unnamed: 104</th>\n",
       "      <th>Unnamed: 105</th>\n",
       "      <th>Unnamed: 106</th>\n",
       "      <th>Unnamed: 107</th>\n",
       "      <th>Unnamed: 108</th>\n",
       "    </tr>\n",
       "  </thead>\n",
       "  <tbody>\n",
       "    <tr>\n",
       "      <th>0</th>\n",
       "      <td>atm</td>\n",
       "      <td>atm</td>\n",
       "      <td>4871</td>\n",
       "      <td>yes</td>\n",
       "      <td>NaN</td>\n",
       "      <td>NaN</td>\n",
       "      <td>2820</td>\n",
       "      <td>2892</td>\n",
       "      <td>5724.0</td>\n",
       "      <td>13.5019</td>\n",
       "      <td>...</td>\n",
       "      <td>18591560</td>\n",
       "      <td>Sporadic epithelial ovarian cancer: clinical r...</td>\n",
       "      <td>22869732</td>\n",
       "      <td>860064</td>\n",
       "      <td>22869732</td>\n",
       "      <td>BRCA1 and HSP90 cooperate in homologous and no...</td>\n",
       "      <td>24210882</td>\n",
       "      <td>860064</td>\n",
       "      <td>24210882</td>\n",
       "      <td>Challenging resistance mechanisms to therapies...</td>\n",
       "    </tr>\n",
       "    <tr>\n",
       "      <th>1</th>\n",
       "      <td>tp53</td>\n",
       "      <td>tp53</td>\n",
       "      <td>1178</td>\n",
       "      <td>yes</td>\n",
       "      <td>NaN</td>\n",
       "      <td>NaN</td>\n",
       "      <td>2174</td>\n",
       "      <td>2347</td>\n",
       "      <td>6248.0</td>\n",
       "      <td>35.9036</td>\n",
       "      <td>...</td>\n",
       "      <td>21060032</td>\n",
       "      <td>TP53 mutation is frequently associated with CT...</td>\n",
       "      <td>20603439</td>\n",
       "      <td>860105</td>\n",
       "      <td>20603439</td>\n",
       "      <td>BRCA1 mRNA expression and outcome to neoadjuva...</td>\n",
       "      <td>20818418</td>\n",
       "      <td>860105</td>\n",
       "      <td>20818418</td>\n",
       "      <td>Harnessing the complexity of DNA-damage respon...</td>\n",
       "    </tr>\n",
       "    <tr>\n",
       "      <th>2</th>\n",
       "      <td>brca1</td>\n",
       "      <td>brca1</td>\n",
       "      <td>8496</td>\n",
       "      <td>yes</td>\n",
       "      <td>NaN</td>\n",
       "      <td>NaN</td>\n",
       "      <td>2000</td>\n",
       "      <td>2141</td>\n",
       "      <td>5975.0</td>\n",
       "      <td>16.5968</td>\n",
       "      <td>...</td>\n",
       "      <td>19035454</td>\n",
       "      <td>The DNA repair proteins BRCA1 and ERCC1 as pre...</td>\n",
       "      <td>11433401</td>\n",
       "      <td>860103</td>\n",
       "      <td>11433401</td>\n",
       "      <td>Survival of breast cancer patients in BRCA1, B...</td>\n",
       "      <td>15863145</td>\n",
       "      <td>860090</td>\n",
       "      <td>15863145</td>\n",
       "      <td>Intra-abdominal carcinomatosis after prophylac...</td>\n",
       "    </tr>\n",
       "    <tr>\n",
       "      <th>3</th>\n",
       "      <td>brca2</td>\n",
       "      <td>brca2</td>\n",
       "      <td>13521</td>\n",
       "      <td>yes</td>\n",
       "      <td>NaN</td>\n",
       "      <td>NaN</td>\n",
       "      <td>1825</td>\n",
       "      <td>1920</td>\n",
       "      <td>4214.0</td>\n",
       "      <td>12.2584</td>\n",
       "      <td>...</td>\n",
       "      <td>19035454</td>\n",
       "      <td>The DNA repair proteins BRCA1 and ERCC1 as pre...</td>\n",
       "      <td>11433401</td>\n",
       "      <td>860103</td>\n",
       "      <td>11433401</td>\n",
       "      <td>Survival of breast cancer patients in BRCA1, B...</td>\n",
       "      <td>15863145</td>\n",
       "      <td>860090</td>\n",
       "      <td>15863145</td>\n",
       "      <td>Intra-abdominal carcinomatosis after prophylac...</td>\n",
       "    </tr>\n",
       "    <tr>\n",
       "      <th>4</th>\n",
       "      <td>xrcc1</td>\n",
       "      <td>xrcc1</td>\n",
       "      <td>3702</td>\n",
       "      <td>yes</td>\n",
       "      <td>NaN</td>\n",
       "      <td>NaN</td>\n",
       "      <td>1108</td>\n",
       "      <td>1113</td>\n",
       "      <td>3105.0</td>\n",
       "      <td>12.97</td>\n",
       "      <td>...</td>\n",
       "      <td>20104979</td>\n",
       "      <td>Lack of influence of XRCC1 and XPD gene polymo...</td>\n",
       "      <td>22551904</td>\n",
       "      <td>860054</td>\n",
       "      <td>22551904</td>\n",
       "      <td>Genetic polymorphism of XRCC1 Arg399Gln is ass...</td>\n",
       "      <td>22456434</td>\n",
       "      <td>860027</td>\n",
       "      <td>22456434</td>\n",
       "      <td>Study on the DNA repair gene XRCC1 and XRCC3 p...</td>\n",
       "    </tr>\n",
       "  </tbody>\n",
       "</table>\n",
       "<p>5 rows × 109 columns</p>\n",
       "</div>"
      ],
      "text/plain": [
       "      MM   gene  transcript_ length(bp) manual_ review comments  \\\n",
       "0    atm    atm                    4871            yes      NaN   \n",
       "1   tp53   tp53                    1178            yes      NaN   \n",
       "2  brca1  brca1                    8496            yes      NaN   \n",
       "3  brca2  brca2                   13521            yes      NaN   \n",
       "4  xrcc1  xrcc1                    3702            yes      NaN   \n",
       "\n",
       "  disease_ related  gene_disease_ta_pmid_count  \\\n",
       "0              NaN                        2820   \n",
       "1              NaN                        2174   \n",
       "2              NaN                        2000   \n",
       "3              NaN                        1825   \n",
       "4              NaN                        1108   \n",
       "\n",
       "   gene_disease_ta_or_keywords_pmid_count  gene_disease_full_pmid_count  \\\n",
       "0                                    2892                        5724.0   \n",
       "1                                    2347                        6248.0   \n",
       "2                                    2141                        5975.0   \n",
       "3                                    1920                        4214.0   \n",
       "4                                    1113                        3105.0   \n",
       "\n",
       "  average_mentions_per_pmid_gene_diease_full  \\\n",
       "0                                    13.5019   \n",
       "1                                    35.9036   \n",
       "2                                    16.5968   \n",
       "3                                    12.2584   \n",
       "4                                      12.97   \n",
       "\n",
       "                         ...                          Unnamed: 99  \\\n",
       "0                        ...                             18591560   \n",
       "1                        ...                             21060032   \n",
       "2                        ...                             19035454   \n",
       "3                        ...                             19035454   \n",
       "4                        ...                             20104979   \n",
       "\n",
       "                                        Unnamed: 100  Unnamed: 101  \\\n",
       "0  Sporadic epithelial ovarian cancer: clinical r...      22869732   \n",
       "1  TP53 mutation is frequently associated with CT...      20603439   \n",
       "2  The DNA repair proteins BRCA1 and ERCC1 as pre...      11433401   \n",
       "3  The DNA repair proteins BRCA1 and ERCC1 as pre...      11433401   \n",
       "4  Lack of influence of XRCC1 and XPD gene polymo...      22551904   \n",
       "\n",
       "   Unnamed: 102  Unnamed: 103  \\\n",
       "0        860064      22869732   \n",
       "1        860105      20603439   \n",
       "2        860103      11433401   \n",
       "3        860103      11433401   \n",
       "4        860054      22551904   \n",
       "\n",
       "                                        Unnamed: 104  Unnamed: 105  \\\n",
       "0  BRCA1 and HSP90 cooperate in homologous and no...      24210882   \n",
       "1  BRCA1 mRNA expression and outcome to neoadjuva...      20818418   \n",
       "2  Survival of breast cancer patients in BRCA1, B...      15863145   \n",
       "3  Survival of breast cancer patients in BRCA1, B...      15863145   \n",
       "4  Genetic polymorphism of XRCC1 Arg399Gln is ass...      22456434   \n",
       "\n",
       "   Unnamed: 106  Unnamed: 107  \\\n",
       "0        860064      24210882   \n",
       "1        860105      20818418   \n",
       "2        860090      15863145   \n",
       "3        860090      15863145   \n",
       "4        860027      22456434   \n",
       "\n",
       "                                        Unnamed: 108  \n",
       "0  Challenging resistance mechanisms to therapies...  \n",
       "1  Harnessing the complexity of DNA-damage respon...  \n",
       "2  Intra-abdominal carcinomatosis after prophylac...  \n",
       "3  Intra-abdominal carcinomatosis after prophylac...  \n",
       "4  Study on the DNA repair gene XRCC1 and XRCC3 p...  \n",
       "\n",
       "[5 rows x 109 columns]"
      ]
     },
     "execution_count": 5,
     "metadata": {},
     "output_type": "execute_result"
    }
   ],
   "source": [
    "dfGM.head()"
   ]
  },
  {
   "cell_type": "code",
   "execution_count": null,
   "metadata": {
    "collapsed": true
   },
   "outputs": [],
   "source": []
  },
  {
   "cell_type": "code",
   "execution_count": 6,
   "metadata": {
    "scrolled": true
   },
   "outputs": [
    {
     "data": {
      "text/html": [
       "<div>\n",
       "<style>\n",
       "    .dataframe thead tr:only-child th {\n",
       "        text-align: right;\n",
       "    }\n",
       "\n",
       "    .dataframe thead th {\n",
       "        text-align: left;\n",
       "    }\n",
       "\n",
       "    .dataframe tbody tr th {\n",
       "        vertical-align: top;\n",
       "    }\n",
       "</style>\n",
       "<table border=\"1\" class=\"dataframe\">\n",
       "  <thead>\n",
       "    <tr style=\"text-align: right;\">\n",
       "      <th></th>\n",
       "      <th>MM</th>\n",
       "      <th>gene</th>\n",
       "      <th>transcript_ length(bp)</th>\n",
       "      <th>manual_ review</th>\n",
       "      <th>comments</th>\n",
       "      <th>disease_ related</th>\n",
       "      <th>gene_disease_ta_pmid_count</th>\n",
       "      <th>gene_disease_ta_or_keywords_pmid_count</th>\n",
       "      <th>gene_disease_full_pmid_count</th>\n",
       "      <th>average_mentions_per_pmid_gene_diease_full</th>\n",
       "      <th>...</th>\n",
       "      <th>Unnamed: 99</th>\n",
       "      <th>Unnamed: 100</th>\n",
       "      <th>Unnamed: 101</th>\n",
       "      <th>Unnamed: 102</th>\n",
       "      <th>Unnamed: 103</th>\n",
       "      <th>Unnamed: 104</th>\n",
       "      <th>Unnamed: 105</th>\n",
       "      <th>Unnamed: 106</th>\n",
       "      <th>Unnamed: 107</th>\n",
       "      <th>Unnamed: 108</th>\n",
       "    </tr>\n",
       "  </thead>\n",
       "  <tbody>\n",
       "    <tr>\n",
       "      <th>573</th>\n",
       "      <td>trip13</td>\n",
       "      <td>trip13</td>\n",
       "      <td>4045</td>\n",
       "      <td>yes</td>\n",
       "      <td>NaN</td>\n",
       "      <td>NaN</td>\n",
       "      <td>0</td>\n",
       "      <td>0</td>\n",
       "      <td>24.0</td>\n",
       "      <td>3.125</td>\n",
       "      <td>...</td>\n",
       "      <td>26870961</td>\n",
       "      <td>Chromosome Synapsis Alleviates Mek1-Dependent ...</td>\n",
       "      <td>22900064</td>\n",
       "      <td>0</td>\n",
       "      <td>22900064</td>\n",
       "      <td>Sensitivity to TOP2 targeting chemotherapeutic...</td>\n",
       "      <td>24992337</td>\n",
       "      <td>0</td>\n",
       "      <td>24992337</td>\n",
       "      <td>Meiosis-specific cohesin component, Stag3 is e...</td>\n",
       "    </tr>\n",
       "    <tr>\n",
       "      <th>574</th>\n",
       "      <td>tti1</td>\n",
       "      <td>tti1</td>\n",
       "      <td>4448</td>\n",
       "      <td>yes</td>\n",
       "      <td>NaN</td>\n",
       "      <td>non-disease</td>\n",
       "      <td>0</td>\n",
       "      <td>0</td>\n",
       "      <td>6.0</td>\n",
       "      <td>2.83333</td>\n",
       "      <td>...</td>\n",
       "      <td>NaN</td>\n",
       "      <td>NaN</td>\n",
       "      <td>NaN</td>\n",
       "      <td>NaN</td>\n",
       "      <td>NaN</td>\n",
       "      <td>NaN</td>\n",
       "      <td>NaN</td>\n",
       "      <td>NaN</td>\n",
       "      <td>NaN</td>\n",
       "      <td>NaN</td>\n",
       "    </tr>\n",
       "    <tr>\n",
       "      <th>575</th>\n",
       "      <td>tti2</td>\n",
       "      <td>tti2</td>\n",
       "      <td>1671</td>\n",
       "      <td>yes</td>\n",
       "      <td>NaN</td>\n",
       "      <td>non-disease</td>\n",
       "      <td>0</td>\n",
       "      <td>0</td>\n",
       "      <td>6.0</td>\n",
       "      <td>1</td>\n",
       "      <td>...</td>\n",
       "      <td>NaN</td>\n",
       "      <td>NaN</td>\n",
       "      <td>NaN</td>\n",
       "      <td>NaN</td>\n",
       "      <td>NaN</td>\n",
       "      <td>NaN</td>\n",
       "      <td>NaN</td>\n",
       "      <td>NaN</td>\n",
       "      <td>NaN</td>\n",
       "      <td>NaN</td>\n",
       "    </tr>\n",
       "    <tr>\n",
       "      <th>576</th>\n",
       "      <td>ube2nl</td>\n",
       "      <td>ube2nl</td>\n",
       "      <td>1908</td>\n",
       "      <td>NaN</td>\n",
       "      <td>NaN</td>\n",
       "      <td>NaN</td>\n",
       "      <td>0</td>\n",
       "      <td>0</td>\n",
       "      <td>NaN</td>\n",
       "      <td>0</td>\n",
       "      <td>...</td>\n",
       "      <td>NaN</td>\n",
       "      <td>NaN</td>\n",
       "      <td>NaN</td>\n",
       "      <td>NaN</td>\n",
       "      <td>NaN</td>\n",
       "      <td>NaN</td>\n",
       "      <td>NaN</td>\n",
       "      <td>NaN</td>\n",
       "      <td>NaN</td>\n",
       "      <td>NaN</td>\n",
       "    </tr>\n",
       "    <tr>\n",
       "      <th>577</th>\n",
       "      <td>zswim7</td>\n",
       "      <td>zswim7</td>\n",
       "      <td>742</td>\n",
       "      <td>yes</td>\n",
       "      <td>NaN</td>\n",
       "      <td>non-disease</td>\n",
       "      <td>0</td>\n",
       "      <td>0</td>\n",
       "      <td>4.0</td>\n",
       "      <td>1.75</td>\n",
       "      <td>...</td>\n",
       "      <td>NaN</td>\n",
       "      <td>NaN</td>\n",
       "      <td>NaN</td>\n",
       "      <td>NaN</td>\n",
       "      <td>NaN</td>\n",
       "      <td>NaN</td>\n",
       "      <td>NaN</td>\n",
       "      <td>NaN</td>\n",
       "      <td>NaN</td>\n",
       "      <td>NaN</td>\n",
       "    </tr>\n",
       "  </tbody>\n",
       "</table>\n",
       "<p>5 rows × 109 columns</p>\n",
       "</div>"
      ],
      "text/plain": [
       "         MM    gene  transcript_ length(bp) manual_ review comments  \\\n",
       "573  trip13  trip13                    4045            yes      NaN   \n",
       "574    tti1    tti1                    4448            yes      NaN   \n",
       "575    tti2    tti2                    1671            yes      NaN   \n",
       "576  ube2nl  ube2nl                    1908            NaN      NaN   \n",
       "577  zswim7  zswim7                     742            yes      NaN   \n",
       "\n",
       "    disease_ related  gene_disease_ta_pmid_count  \\\n",
       "573              NaN                           0   \n",
       "574      non-disease                           0   \n",
       "575      non-disease                           0   \n",
       "576              NaN                           0   \n",
       "577      non-disease                           0   \n",
       "\n",
       "     gene_disease_ta_or_keywords_pmid_count  gene_disease_full_pmid_count  \\\n",
       "573                                       0                          24.0   \n",
       "574                                       0                           6.0   \n",
       "575                                       0                           6.0   \n",
       "576                                       0                           NaN   \n",
       "577                                       0                           4.0   \n",
       "\n",
       "    average_mentions_per_pmid_gene_diease_full  \\\n",
       "573                                      3.125   \n",
       "574                                    2.83333   \n",
       "575                                          1   \n",
       "576                                          0   \n",
       "577                                       1.75   \n",
       "\n",
       "                           ...                          Unnamed: 99  \\\n",
       "573                        ...                             26870961   \n",
       "574                        ...                                  NaN   \n",
       "575                        ...                                  NaN   \n",
       "576                        ...                                  NaN   \n",
       "577                        ...                                  NaN   \n",
       "\n",
       "                                          Unnamed: 100  Unnamed: 101  \\\n",
       "573  Chromosome Synapsis Alleviates Mek1-Dependent ...      22900064   \n",
       "574                                                NaN           NaN   \n",
       "575                                                NaN           NaN   \n",
       "576                                                NaN           NaN   \n",
       "577                                                NaN           NaN   \n",
       "\n",
       "     Unnamed: 102  Unnamed: 103  \\\n",
       "573             0      22900064   \n",
       "574           NaN           NaN   \n",
       "575           NaN           NaN   \n",
       "576           NaN           NaN   \n",
       "577           NaN           NaN   \n",
       "\n",
       "                                          Unnamed: 104  Unnamed: 105  \\\n",
       "573  Sensitivity to TOP2 targeting chemotherapeutic...      24992337   \n",
       "574                                                NaN           NaN   \n",
       "575                                                NaN           NaN   \n",
       "576                                                NaN           NaN   \n",
       "577                                                NaN           NaN   \n",
       "\n",
       "     Unnamed: 106  Unnamed: 107  \\\n",
       "573             0      24992337   \n",
       "574           NaN           NaN   \n",
       "575           NaN           NaN   \n",
       "576           NaN           NaN   \n",
       "577           NaN           NaN   \n",
       "\n",
       "                                          Unnamed: 108  \n",
       "573  Meiosis-specific cohesin component, Stag3 is e...  \n",
       "574                                                NaN  \n",
       "575                                                NaN  \n",
       "576                                                NaN  \n",
       "577                                                NaN  \n",
       "\n",
       "[5 rows x 109 columns]"
      ]
     },
     "execution_count": 6,
     "metadata": {},
     "output_type": "execute_result"
    }
   ],
   "source": [
    "dfGM.tail()"
   ]
  },
  {
   "cell_type": "code",
   "execution_count": 7,
   "metadata": {},
   "outputs": [
    {
     "data": {
      "text/plain": [
       "(0, 0.002)"
      ]
     },
     "execution_count": 7,
     "metadata": {},
     "output_type": "execute_result"
    },
    {
     "data": {
      "image/png": "[encoded data removed]",
      "text/plain": [
       "<matplotlib.figure.Figure at 0x1566c4775c0>"
      ]
     },
     "metadata": {},
     "output_type": "display_data"
    }
   ],
   "source": [
    "# histogram plot to show gene_disease_ta_pmid_count\n",
    "ax = sns.distplot(dfGM.loc[:,'gene_disease_ta_or_keywords_pmid_count'])\n",
    "plt.ylim(0,0.002)"
   ]
  },
  {
   "cell_type": "code",
   "execution_count": 8,
   "metadata": {
    "collapsed": true
   },
   "outputs": [],
   "source": [
    "dimRemovedGenes = dfGM[dfGM.loc[:,'gene_disease_ta_or_keywords_pmid_count']<1].shape"
   ]
  },
  {
   "cell_type": "code",
   "execution_count": 9,
   "metadata": {},
   "outputs": [
    {
     "name": "stdout",
     "output_type": "stream",
     "text": [
      "number of genes removed:  85\n"
     ]
    }
   ],
   "source": [
    "print('number of genes removed: ', dimRemovedGenes[0])"
   ]
  },
  {
   "cell_type": "code",
   "execution_count": 10,
   "metadata": {
    "collapsed": true
   },
   "outputs": [],
   "source": [
    "# df with updated gene list\n",
    "dfGM2 = dfGM[dfGM.loc[:,'gene_disease_ta_or_keywords_pmid_count']>0]"
   ]
  },
  {
   "cell_type": "code",
   "execution_count": 11,
   "metadata": {
    "collapsed": true
   },
   "outputs": [],
   "source": [
    "dfGM2 = dfGM2.set_index('gene')"
   ]
  },
  {
   "cell_type": "markdown",
   "metadata": {},
   "source": [
    "### Get number of citations for each PMID to establish weights.\n",
    "Can't do this right now"
   ]
  },
  {
   "cell_type": "code",
   "execution_count": 12,
   "metadata": {
    "collapsed": true
   },
   "outputs": [],
   "source": [
    "dfPMIDsTX = pd.DataFrame(dfGM2['tx_pmids'].str.split(';').tolist())\n",
    "dfPMIDsPX = pd.DataFrame(dfGM2['px_pmids'].str.split(';').tolist())"
   ]
  },
  {
   "cell_type": "code",
   "execution_count": 13,
   "metadata": {
    "collapsed": true
   },
   "outputs": [],
   "source": [
    "# dfPMIDsTX.set_index(dfGM2.index, inplace=True)\n",
    "# dfPMIDsPX.set_index(dfGM2.index, inplace=True)\n"
   ]
  },
  {
   "cell_type": "code",
   "execution_count": 14,
   "metadata": {},
   "outputs": [
    {
     "data": {
      "text/html": [
       "<div>\n",
       "<style>\n",
       "    .dataframe thead tr:only-child th {\n",
       "        text-align: right;\n",
       "    }\n",
       "\n",
       "    .dataframe thead th {\n",
       "        text-align: left;\n",
       "    }\n",
       "\n",
       "    .dataframe tbody tr th {\n",
       "        vertical-align: top;\n",
       "    }\n",
       "</style>\n",
       "<table border=\"1\" class=\"dataframe\">\n",
       "  <thead>\n",
       "    <tr style=\"text-align: right;\">\n",
       "      <th></th>\n",
       "      <th>0</th>\n",
       "      <th>1</th>\n",
       "      <th>2</th>\n",
       "      <th>3</th>\n",
       "      <th>4</th>\n",
       "      <th>5</th>\n",
       "      <th>6</th>\n",
       "      <th>7</th>\n",
       "      <th>8</th>\n",
       "      <th>9</th>\n",
       "      <th>...</th>\n",
       "      <th>282</th>\n",
       "      <th>283</th>\n",
       "      <th>284</th>\n",
       "      <th>285</th>\n",
       "      <th>286</th>\n",
       "      <th>287</th>\n",
       "      <th>288</th>\n",
       "      <th>289</th>\n",
       "      <th>290</th>\n",
       "      <th>291</th>\n",
       "    </tr>\n",
       "  </thead>\n",
       "  <tbody>\n",
       "    <tr>\n",
       "      <th>0</th>\n",
       "      <td>15317748</td>\n",
       "      <td>15956042</td>\n",
       "      <td>24225019</td>\n",
       "      <td>19252415</td>\n",
       "      <td>12383682</td>\n",
       "      <td>20818418</td>\n",
       "      <td>15796958</td>\n",
       "      <td>18591560</td>\n",
       "      <td>22869732</td>\n",
       "      <td>24210882</td>\n",
       "      <td>...</td>\n",
       "      <td>None</td>\n",
       "      <td>None</td>\n",
       "      <td>None</td>\n",
       "      <td>None</td>\n",
       "      <td>None</td>\n",
       "      <td>None</td>\n",
       "      <td>None</td>\n",
       "      <td>None</td>\n",
       "      <td>None</td>\n",
       "      <td>None</td>\n",
       "    </tr>\n",
       "    <tr>\n",
       "      <th>1</th>\n",
       "      <td>20182602</td>\n",
       "      <td>18066063</td>\n",
       "      <td>10786679</td>\n",
       "      <td>24225019</td>\n",
       "      <td>10389907</td>\n",
       "      <td>12383682</td>\n",
       "      <td>20308654</td>\n",
       "      <td>21060032</td>\n",
       "      <td>20603439</td>\n",
       "      <td>20818418</td>\n",
       "      <td>...</td>\n",
       "      <td>None</td>\n",
       "      <td>None</td>\n",
       "      <td>None</td>\n",
       "      <td>None</td>\n",
       "      <td>None</td>\n",
       "      <td>None</td>\n",
       "      <td>None</td>\n",
       "      <td>None</td>\n",
       "      <td>None</td>\n",
       "      <td>None</td>\n",
       "    </tr>\n",
       "    <tr>\n",
       "      <th>2</th>\n",
       "      <td>15317748</td>\n",
       "      <td>21195000</td>\n",
       "      <td>24225019</td>\n",
       "      <td>10389907</td>\n",
       "      <td>11237395</td>\n",
       "      <td>12383682</td>\n",
       "      <td>20603439</td>\n",
       "      <td>19035454</td>\n",
       "      <td>11433401</td>\n",
       "      <td>15863145</td>\n",
       "      <td>...</td>\n",
       "      <td>None</td>\n",
       "      <td>None</td>\n",
       "      <td>None</td>\n",
       "      <td>None</td>\n",
       "      <td>None</td>\n",
       "      <td>None</td>\n",
       "      <td>None</td>\n",
       "      <td>None</td>\n",
       "      <td>None</td>\n",
       "      <td>None</td>\n",
       "    </tr>\n",
       "    <tr>\n",
       "      <th>3</th>\n",
       "      <td>14651845</td>\n",
       "      <td>15317748</td>\n",
       "      <td>21195000</td>\n",
       "      <td>24225019</td>\n",
       "      <td>10389907</td>\n",
       "      <td>11237395</td>\n",
       "      <td>12383682</td>\n",
       "      <td>19035454</td>\n",
       "      <td>11433401</td>\n",
       "      <td>15863145</td>\n",
       "      <td>...</td>\n",
       "      <td>None</td>\n",
       "      <td>None</td>\n",
       "      <td>None</td>\n",
       "      <td>None</td>\n",
       "      <td>None</td>\n",
       "      <td>None</td>\n",
       "      <td>None</td>\n",
       "      <td>None</td>\n",
       "      <td>None</td>\n",
       "      <td>None</td>\n",
       "    </tr>\n",
       "    <tr>\n",
       "      <th>4</th>\n",
       "      <td>14744728</td>\n",
       "      <td>17952468</td>\n",
       "      <td>15596292</td>\n",
       "      <td>19683826</td>\n",
       "      <td>19101034</td>\n",
       "      <td>16144922</td>\n",
       "      <td>22452940</td>\n",
       "      <td>20104979</td>\n",
       "      <td>22551904</td>\n",
       "      <td>22456434</td>\n",
       "      <td>...</td>\n",
       "      <td>None</td>\n",
       "      <td>None</td>\n",
       "      <td>None</td>\n",
       "      <td>None</td>\n",
       "      <td>None</td>\n",
       "      <td>None</td>\n",
       "      <td>None</td>\n",
       "      <td>None</td>\n",
       "      <td>None</td>\n",
       "      <td>None</td>\n",
       "    </tr>\n",
       "  </tbody>\n",
       "</table>\n",
       "<p>5 rows × 292 columns</p>\n",
       "</div>"
      ],
      "text/plain": [
       "        0         1         2         3         4         5         6    \\\n",
       "0  15317748  15956042  24225019  19252415  12383682  20818418  15796958   \n",
       "1  20182602  18066063  10786679  24225019  10389907  12383682  20308654   \n",
       "2  15317748  21195000  24225019  10389907  11237395  12383682  20603439   \n",
       "3  14651845  15317748  21195000  24225019  10389907  11237395  12383682   \n",
       "4  14744728  17952468  15596292  19683826  19101034  16144922  22452940   \n",
       "\n",
       "        7         8         9    ...    282   283   284   285   286   287  \\\n",
       "0  18591560  22869732  24210882  ...   None  None  None  None  None  None   \n",
       "1  21060032  20603439  20818418  ...   None  None  None  None  None  None   \n",
       "2  19035454  11433401  15863145  ...   None  None  None  None  None  None   \n",
       "3  19035454  11433401  15863145  ...   None  None  None  None  None  None   \n",
       "4  20104979  22551904  22456434  ...   None  None  None  None  None  None   \n",
       "\n",
       "    288   289   290   291  \n",
       "0  None  None  None  None  \n",
       "1  None  None  None  None  \n",
       "2  None  None  None  None  \n",
       "3  None  None  None  None  \n",
       "4  None  None  None  None  \n",
       "\n",
       "[5 rows x 292 columns]"
      ]
     },
     "execution_count": 14,
     "metadata": {},
     "output_type": "execute_result"
    }
   ],
   "source": [
    "dfPMIDsPX.head()"
   ]
  },
  {
   "cell_type": "markdown",
   "metadata": {},
   "source": [
    "## For each gene, pull GOterms from json"
   ]
  },
  {
   "cell_type": "code",
   "execution_count": 15,
   "metadata": {},
   "outputs": [
    {
     "name": "stdout",
     "output_type": "stream",
     "text": [
      "atm\n",
      "tp53\n",
      "brca1\n"
     ]
    },
    {
     "ename": "ConnectionAbortedError",
     "evalue": "[WinError 10053] An established connection was aborted by the software in your host machine",
     "output_type": "error",
     "traceback": [
      "\u001b[1;31m---------------------------------------------------------------------------\u001b[0m",
      "\u001b[1;31mConnectionAbortedError\u001b[0m                    Traceback (most recent call last)",
      "\u001b[1;32m<ipython-input-15-10db9fa63ce5>\u001b[0m in \u001b[0;36m<module>\u001b[1;34m()\u001b[0m\n\u001b[0;32m      6\u001b[0m     \u001b[0msearchURL\u001b[0m \u001b[1;33m=\u001b[0m \u001b[0mbaseURL\u001b[0m\u001b[1;33m+\u001b[0m\u001b[0mappendString\u001b[0m\u001b[1;33m\u001b[0m\u001b[0m\n\u001b[0;32m      7\u001b[0m     \u001b[0mconnection1\u001b[0m \u001b[1;33m=\u001b[0m \u001b[0murllib\u001b[0m\u001b[1;33m.\u001b[0m\u001b[0mrequest\u001b[0m\u001b[1;33m.\u001b[0m\u001b[0murlopen\u001b[0m\u001b[1;33m(\u001b[0m\u001b[0msearchURL\u001b[0m\u001b[1;33m)\u001b[0m\u001b[1;33m\u001b[0m\u001b[0m\n\u001b[1;32m----> 8\u001b[1;33m     \u001b[0mdata1\u001b[0m \u001b[1;33m=\u001b[0m \u001b[0mconnection1\u001b[0m\u001b[1;33m.\u001b[0m\u001b[0mread\u001b[0m\u001b[1;33m(\u001b[0m\u001b[1;33m)\u001b[0m\u001b[1;33m\u001b[0m\u001b[0m\n\u001b[0m\u001b[0;32m      9\u001b[0m     \u001b[0mjs1\u001b[0m \u001b[1;33m=\u001b[0m \u001b[0mjson\u001b[0m\u001b[1;33m.\u001b[0m\u001b[0mloads\u001b[0m\u001b[1;33m(\u001b[0m\u001b[0mdata1\u001b[0m\u001b[1;33m.\u001b[0m\u001b[0mdecode\u001b[0m\u001b[1;33m(\u001b[0m\u001b[1;33m)\u001b[0m\u001b[1;33m)\u001b[0m\u001b[1;33m\u001b[0m\u001b[0m\n\u001b[0;32m     10\u001b[0m     \u001b[0mprint\u001b[0m\u001b[1;33m(\u001b[0m\u001b[0mgene\u001b[0m\u001b[1;33m)\u001b[0m\u001b[1;33m\u001b[0m\u001b[0m\n",
      "\u001b[1;32mC:\\Users\\Benjamin.Lacar\\AppData\\Local\\Continuum\\Anaconda3_v440\\lib\\http\\client.py\u001b[0m in \u001b[0;36mread\u001b[1;34m(self, amt)\u001b[0m\n\u001b[0;32m    460\u001b[0m             \u001b[1;32melse\u001b[0m\u001b[1;33m:\u001b[0m\u001b[1;33m\u001b[0m\u001b[0m\n\u001b[0;32m    461\u001b[0m                 \u001b[1;32mtry\u001b[0m\u001b[1;33m:\u001b[0m\u001b[1;33m\u001b[0m\u001b[0m\n\u001b[1;32m--> 462\u001b[1;33m                     \u001b[0ms\u001b[0m \u001b[1;33m=\u001b[0m \u001b[0mself\u001b[0m\u001b[1;33m.\u001b[0m\u001b[0m_safe_read\u001b[0m\u001b[1;33m(\u001b[0m\u001b[0mself\u001b[0m\u001b[1;33m.\u001b[0m\u001b[0mlength\u001b[0m\u001b[1;33m)\u001b[0m\u001b[1;33m\u001b[0m\u001b[0m\n\u001b[0m\u001b[0;32m    463\u001b[0m                 \u001b[1;32mexcept\u001b[0m \u001b[0mIncompleteRead\u001b[0m\u001b[1;33m:\u001b[0m\u001b[1;33m\u001b[0m\u001b[0m\n\u001b[0;32m    464\u001b[0m                     \u001b[0mself\u001b[0m\u001b[1;33m.\u001b[0m\u001b[0m_close_conn\u001b[0m\u001b[1;33m(\u001b[0m\u001b[1;33m)\u001b[0m\u001b[1;33m\u001b[0m\u001b[0m\n",
      "\u001b[1;32mC:\\Users\\Benjamin.Lacar\\AppData\\Local\\Continuum\\Anaconda3_v440\\lib\\http\\client.py\u001b[0m in \u001b[0;36m_safe_read\u001b[1;34m(self, amt)\u001b[0m\n\u001b[0;32m    610\u001b[0m         \u001b[0ms\u001b[0m \u001b[1;33m=\u001b[0m \u001b[1;33m[\u001b[0m\u001b[1;33m]\u001b[0m\u001b[1;33m\u001b[0m\u001b[0m\n\u001b[0;32m    611\u001b[0m         \u001b[1;32mwhile\u001b[0m \u001b[0mamt\u001b[0m \u001b[1;33m>\u001b[0m \u001b[1;36m0\u001b[0m\u001b[1;33m:\u001b[0m\u001b[1;33m\u001b[0m\u001b[0m\n\u001b[1;32m--> 612\u001b[1;33m             \u001b[0mchunk\u001b[0m \u001b[1;33m=\u001b[0m \u001b[0mself\u001b[0m\u001b[1;33m.\u001b[0m\u001b[0mfp\u001b[0m\u001b[1;33m.\u001b[0m\u001b[0mread\u001b[0m\u001b[1;33m(\u001b[0m\u001b[0mmin\u001b[0m\u001b[1;33m(\u001b[0m\u001b[0mamt\u001b[0m\u001b[1;33m,\u001b[0m \u001b[0mMAXAMOUNT\u001b[0m\u001b[1;33m)\u001b[0m\u001b[1;33m)\u001b[0m\u001b[1;33m\u001b[0m\u001b[0m\n\u001b[0m\u001b[0;32m    613\u001b[0m             \u001b[1;32mif\u001b[0m \u001b[1;32mnot\u001b[0m \u001b[0mchunk\u001b[0m\u001b[1;33m:\u001b[0m\u001b[1;33m\u001b[0m\u001b[0m\n\u001b[0;32m    614\u001b[0m                 \u001b[1;32mraise\u001b[0m \u001b[0mIncompleteRead\u001b[0m\u001b[1;33m(\u001b[0m\u001b[1;34mb''\u001b[0m\u001b[1;33m.\u001b[0m\u001b[0mjoin\u001b[0m\u001b[1;33m(\u001b[0m\u001b[0ms\u001b[0m\u001b[1;33m)\u001b[0m\u001b[1;33m,\u001b[0m \u001b[0mamt\u001b[0m\u001b[1;33m)\u001b[0m\u001b[1;33m\u001b[0m\u001b[0m\n",
      "\u001b[1;32mC:\\Users\\Benjamin.Lacar\\AppData\\Local\\Continuum\\Anaconda3_v440\\lib\\socket.py\u001b[0m in \u001b[0;36mreadinto\u001b[1;34m(self, b)\u001b[0m\n\u001b[0;32m    584\u001b[0m         \u001b[1;32mwhile\u001b[0m \u001b[1;32mTrue\u001b[0m\u001b[1;33m:\u001b[0m\u001b[1;33m\u001b[0m\u001b[0m\n\u001b[0;32m    585\u001b[0m             \u001b[1;32mtry\u001b[0m\u001b[1;33m:\u001b[0m\u001b[1;33m\u001b[0m\u001b[0m\n\u001b[1;32m--> 586\u001b[1;33m                 \u001b[1;32mreturn\u001b[0m \u001b[0mself\u001b[0m\u001b[1;33m.\u001b[0m\u001b[0m_sock\u001b[0m\u001b[1;33m.\u001b[0m\u001b[0mrecv_into\u001b[0m\u001b[1;33m(\u001b[0m\u001b[0mb\u001b[0m\u001b[1;33m)\u001b[0m\u001b[1;33m\u001b[0m\u001b[0m\n\u001b[0m\u001b[0;32m    587\u001b[0m             \u001b[1;32mexcept\u001b[0m \u001b[0mtimeout\u001b[0m\u001b[1;33m:\u001b[0m\u001b[1;33m\u001b[0m\u001b[0m\n\u001b[0;32m    588\u001b[0m                 \u001b[0mself\u001b[0m\u001b[1;33m.\u001b[0m\u001b[0m_timeout_occurred\u001b[0m \u001b[1;33m=\u001b[0m \u001b[1;32mTrue\u001b[0m\u001b[1;33m\u001b[0m\u001b[0m\n",
      "\u001b[1;31mConnectionAbortedError\u001b[0m: [WinError 10053] An established connection was aborted by the software in your host machine"
     ]
    }
   ],
   "source": [
    "# for gene in dfGM2['gene']:\n",
    "for gene in dfGM2.iloc[0:10,0]:\n",
    "    # get the json file for a gene name\n",
    "    baseURL = 'http://mygene.info/v3/query'\n",
    "    appendString = '?q='+gene+'&species=human'\n",
    "    searchURL = baseURL+appendString\n",
    "    connection1 = urllib.request.urlopen(searchURL)\n",
    "    data1 = connection1.read()\n",
    "    js1 = json.loads(data1.decode())\n",
    "    print(gene)\n",
    "    try:\n",
    "        #js1['hits'][0]['_id']      # there are different gene IDs, start by taking the first one\n",
    "        for i, GN in enumerate(js1['hits']):   # try evaluating different gene IDs \n",
    "            searchedGene = GN['_id']  \n",
    "            searchBaseURL = 'http://mygene.info/v3/gene/'\n",
    "            appendString_x = searchedGene\n",
    "            searchURL1 = searchBaseURL+appendString_x\n",
    "            connection2 = urllib.request.urlopen(searchURL1)    # python 3 modification\n",
    "            data2 = connection2.read()\n",
    "            js = json.loads(data2.decode())\n",
    "            # choose which GO term category to do\n",
    "            # goSubcats = ['CC', 'MF', 'BP']\n",
    "            goSubcats = ['BP']\n",
    "            # myGenePMIDs = list()\n",
    "            try:\n",
    "                for i, subcatEvidence in enumerate(js['go']['BP']):\n",
    "                # print(i, subcatEvidence)\n",
    "                    try:\n",
    "                        # only get GO terms if the pubmed ID is also in the Genomenon list\n",
    "                         if (str(subcatEvidence['pubmed']) in dfPMIDsTX.loc[gene,:].tolist()) or (str(subcatEvidence['pubmed']) in dfPMIDsPX.loc[gene,:].tolist()):\n",
    "                                print('----------', gene, 'publication with GO term also on Genomenon publication list', subcatEvidence['pubmed'], subcatEvidence['term'])\n",
    "                                #myGenePMIDs.append(str(subcatEvidence['pubmed']))\n",
    "                    except: continue\n",
    "            except: continue\n",
    "    except: continue"
   ]
  },
  {
   "cell_type": "markdown",
   "metadata": {},
   "source": [
    "Multiply GOterm (BP) by PMID weight.\n",
    "Doesn't make sense to do."
   ]
  },
  {
   "cell_type": "markdown",
   "metadata": {},
   "source": [
    "## Use other resources"
   ]
  },
  {
   "cell_type": "markdown",
   "metadata": {},
   "source": [
    "### Create dataframe for druggable genome"
   ]
  },
  {
   "cell_type": "code",
   "execution_count": null,
   "metadata": {
    "collapsed": true
   },
   "outputs": [],
   "source": [
    "for gene in dfGM2['gene']:\n",
    "    print(gene)"
   ]
  },
  {
   "cell_type": "code",
   "execution_count": null,
   "metadata": {
    "collapsed": true
   },
   "outputs": [],
   "source": [
    "dfDG = pd.read_excel('dgidb_export_2017-09-08.xlsx')"
   ]
  },
  {
   "cell_type": "code",
   "execution_count": null,
   "metadata": {
    "collapsed": true,
    "scrolled": true
   },
   "outputs": [],
   "source": [
    "# dfDG.drop(['search_term', 'match_type'], axis=1, inplace=True)\n",
    "# dfDG.set_index('gene', inplace=True)"
   ]
  },
  {
   "cell_type": "code",
   "execution_count": null,
   "metadata": {
    "collapsed": true,
    "scrolled": true
   },
   "outputs": [],
   "source": [
    "dfDG"
   ]
  },
  {
   "cell_type": "code",
   "execution_count": null,
   "metadata": {
    "collapsed": true
   },
   "outputs": [],
   "source": [
    "dfDG2 = dfDG.pivot_table(index='match_term', columns='drug', aggfunc=len, fill_value=0)"
   ]
  },
  {
   "cell_type": "code",
   "execution_count": null,
   "metadata": {
    "collapsed": true,
    "scrolled": false
   },
   "outputs": [],
   "source": [
    "dfDG2.index"
   ]
  },
  {
   "cell_type": "code",
   "execution_count": null,
   "metadata": {
    "collapsed": true
   },
   "outputs": [],
   "source": [
    "print('No. of genes with annotations on druggable genome: ', len(dfDG2.index))\n",
    "print('Total no. of genes of interest: 493')"
   ]
  },
  {
   "cell_type": "code",
   "execution_count": null,
   "metadata": {
    "collapsed": true
   },
   "outputs": [],
   "source": [
    "dfDG2.head()"
   ]
  },
  {
   "cell_type": "markdown",
   "metadata": {},
   "source": [
    "### Apply Genomenon \"putative therapies\" listing"
   ]
  },
  {
   "cell_type": "code",
   "execution_count": null,
   "metadata": {
    "collapsed": true
   },
   "outputs": [],
   "source": [
    "# if there are genes that don't have putative therapies, remove for now\n",
    "dfGM3 = dfGM2[~pd.isnull(dfGM2['putative_therapies'])]"
   ]
  },
  {
   "cell_type": "code",
   "execution_count": null,
   "metadata": {
    "collapsed": true
   },
   "outputs": [],
   "source": [
    "dfGM2.head()"
   ]
  },
  {
   "cell_type": "code",
   "execution_count": null,
   "metadata": {
    "collapsed": true
   },
   "outputs": [],
   "source": [
    "print('No. of genes without putative therapy listed: ', dfGM2.shape[0]-dfGM3.shape[0])"
   ]
  },
  {
   "cell_type": "code",
   "execution_count": null,
   "metadata": {
    "collapsed": true
   },
   "outputs": [],
   "source": [
    "# make a conscious decision to ignore numbers (this is str.place method in combination with regular expressions)\n",
    "# \\d = digit, + = 1 or more, parentheses means it's a capturing group\n",
    "\n",
    "dfGM3['putative_therapies'] = dfGM3['putative_therapies'].str.replace('\\d+', '')"
   ]
  },
  {
   "cell_type": "code",
   "execution_count": null,
   "metadata": {
    "collapsed": true
   },
   "outputs": [],
   "source": [
    "dfGM3['putative_therapies']"
   ]
  },
  {
   "cell_type": "code",
   "execution_count": null,
   "metadata": {
    "collapsed": true,
    "scrolled": true
   },
   "outputs": [],
   "source": [
    "dfPutTher = pd.DataFrame(dfGM3['putative_therapies'].str.split('|').tolist())"
   ]
  },
  {
   "cell_type": "code",
   "execution_count": null,
   "metadata": {
    "collapsed": true
   },
   "outputs": [],
   "source": [
    "dfPutTher.head()"
   ]
  },
  {
   "cell_type": "code",
   "execution_count": null,
   "metadata": {
    "collapsed": true
   },
   "outputs": [],
   "source": [
    "# dfPutTher.set_index(dfGM3.index, inplace=True)"
   ]
  },
  {
   "cell_type": "code",
   "execution_count": null,
   "metadata": {
    "collapsed": true
   },
   "outputs": [],
   "source": [
    "dfPutTher2 = pd.DataFrame(0, index=np.arange(len(dfPutTher)), columns=range(48))"
   ]
  },
  {
   "cell_type": "code",
   "execution_count": null,
   "metadata": {
    "collapsed": true
   },
   "outputs": [],
   "source": [
    "for i, row in dfPutTher.iterrows():\n",
    "    b = row[row.isnull()]   \n",
    "    try:\n",
    "        dfPutTher2.loc[i,:] = row[:(b.index[0]-1)]\n",
    "    except:\n",
    "        continue"
   ]
  },
  {
   "cell_type": "code",
   "execution_count": null,
   "metadata": {
    "collapsed": true,
    "scrolled": true
   },
   "outputs": [],
   "source": [
    "dfPutTher3 = dfPutTher2.iloc[484:,:]"
   ]
  },
  {
   "cell_type": "code",
   "execution_count": null,
   "metadata": {
    "collapsed": true
   },
   "outputs": [],
   "source": [
    "dfPutTher3['gene'] = dfPutTher3.index"
   ]
  },
  {
   "cell_type": "code",
   "execution_count": null,
   "metadata": {
    "collapsed": true
   },
   "outputs": [],
   "source": [
    "dfTest = pd.melt(dfPutTher3, id_vars='gene')"
   ]
  },
  {
   "cell_type": "code",
   "execution_count": null,
   "metadata": {
    "collapsed": true
   },
   "outputs": [],
   "source": [
    "# dfTest.drop('variable', axis=1, inplace=True)\n",
    "dfTest.index"
   ]
  },
  {
   "cell_type": "code",
   "execution_count": null,
   "metadata": {
    "collapsed": true
   },
   "outputs": [],
   "source": [
    "dfTest2 = dfTest.pivot_table(index='gene', columns='value', aggfunc=len, fill_value=0)"
   ]
  },
  {
   "cell_type": "code",
   "execution_count": null,
   "metadata": {
    "collapsed": true
   },
   "outputs": [],
   "source": [
    "dfTest2.head()"
   ]
  },
  {
   "cell_type": "code",
   "execution_count": null,
   "metadata": {
    "collapsed": true
   },
   "outputs": [],
   "source": [
    "dfTest2.columns"
   ]
  },
  {
   "cell_type": "markdown",
   "metadata": {},
   "source": [
    "## Apply k-means method"
   ]
  },
  {
   "cell_type": "code",
   "execution_count": null,
   "metadata": {
    "collapsed": true
   },
   "outputs": [],
   "source": [
    "from sklearn.cluster import KMeans"
   ]
  },
  {
   "cell_type": "code",
   "execution_count": null,
   "metadata": {
    "collapsed": true
   },
   "outputs": [],
   "source": [
    "km = KMeans(n_clusters=5)"
   ]
  },
  {
   "cell_type": "code",
   "execution_count": null,
   "metadata": {
    "collapsed": true
   },
   "outputs": [],
   "source": [
    "km.fit(dfTest2)"
   ]
  },
  {
   "cell_type": "code",
   "execution_count": null,
   "metadata": {
    "collapsed": true,
    "scrolled": true
   },
   "outputs": [],
   "source": [
    "km.cluster_centers_"
   ]
  },
  {
   "cell_type": "code",
   "execution_count": null,
   "metadata": {
    "collapsed": true
   },
   "outputs": [],
   "source": [
    "# note it's a high-dimensional space"
   ]
  },
  {
   "cell_type": "code",
   "execution_count": null,
   "metadata": {
    "collapsed": true,
    "scrolled": false
   },
   "outputs": [],
   "source": [
    "km.labels_"
   ]
  },
  {
   "cell_type": "code",
   "execution_count": null,
   "metadata": {
    "collapsed": true
   },
   "outputs": [],
   "source": [
    "dfTest2['KMeansGroup'] = km.labels_"
   ]
  },
  {
   "cell_type": "code",
   "execution_count": null,
   "metadata": {
    "collapsed": true
   },
   "outputs": [],
   "source": [
    "dfTest2.index"
   ]
  },
  {
   "cell_type": "code",
   "execution_count": null,
   "metadata": {
    "collapsed": true
   },
   "outputs": [],
   "source": [
    "dfTest2['gene']=dfTest2.index"
   ]
  },
  {
   "cell_type": "code",
   "execution_count": null,
   "metadata": {
    "collapsed": true
   },
   "outputs": [],
   "source": [
    "dfTest2.sort_values(by=['KMeansGroup', 'gene']).to_csv('kmeans.csv')"
   ]
  },
  {
   "cell_type": "code",
   "execution_count": null,
   "metadata": {
    "collapsed": true
   },
   "outputs": [],
   "source": [
    "dfTest2.sort_values(by=['KMeansGroup', 'gene'])"
   ]
  },
  {
   "cell_type": "code",
   "execution_count": null,
   "metadata": {
    "collapsed": true
   },
   "outputs": [],
   "source": [
    "dfRankTest = dfGM2.copy()\n",
    "dfRankTest.index = dfGM2['gene']\n",
    "dfTemp = dfTest2.sort_values(by=['KMeansGroup', 'gene'])"
   ]
  },
  {
   "cell_type": "code",
   "execution_count": null,
   "metadata": {
    "collapsed": true
   },
   "outputs": [],
   "source": [
    "dfRankTest.drop(dfRankTest.columns[1:], axis=1, inplace=True)"
   ]
  },
  {
   "cell_type": "code",
   "execution_count": null,
   "metadata": {
    "collapsed": true,
    "scrolled": true
   },
   "outputs": [],
   "source": [
    "dfRankTest.head()"
   ]
  },
  {
   "cell_type": "code",
   "execution_count": null,
   "metadata": {
    "collapsed": true
   },
   "outputs": [],
   "source": [
    "kmTemp=list()\n",
    "for i in dfRankTest.index:\n",
    "    try:\n",
    "        kmTemp.append(dfTemp[dfTemp['gene']==i].loc[:,'KMeansGroup'].tolist()[0])\n",
    "    except:\n",
    "        kmTemp.append(np.nan)"
   ]
  },
  {
   "cell_type": "code",
   "execution_count": null,
   "metadata": {
    "collapsed": true
   },
   "outputs": [],
   "source": [
    "dfRankTest['gmRank'] = list(range(len(dfGM2['gene'])))\n",
    "dfRankTest['kmRank'] = kmTemp"
   ]
  },
  {
   "cell_type": "code",
   "execution_count": null,
   "metadata": {
    "collapsed": true
   },
   "outputs": [],
   "source": [
    "dfRankTest.head()"
   ]
  },
  {
   "cell_type": "code",
   "execution_count": null,
   "metadata": {
    "collapsed": true
   },
   "outputs": [],
   "source": [
    "g = sns.boxplot(x='kmRank', y='gmRank', data=dfRankTest)"
   ]
  },
  {
   "cell_type": "code",
   "execution_count": null,
   "metadata": {
    "collapsed": true
   },
   "outputs": [],
   "source": [
    "k = dfTest2[dfTest2['KMeansGroup']==4]\n",
    "k.iloc[:60,-1]"
   ]
  },
  {
   "cell_type": "code",
   "execution_count": null,
   "metadata": {
    "collapsed": true
   },
   "outputs": [],
   "source": [
    "dfTest2_unaltered = dfTest2.loc[:,:'zorro ']"
   ]
  },
  {
   "cell_type": "code",
   "execution_count": null,
   "metadata": {
    "collapsed": true
   },
   "outputs": [],
   "source": [
    "dfTest2_unaltered.shape"
   ]
  },
  {
   "cell_type": "markdown",
   "metadata": {},
   "source": [
    "### Visualize with PCA"
   ]
  },
  {
   "cell_type": "code",
   "execution_count": null,
   "metadata": {
    "collapsed": true,
    "scrolled": true
   },
   "outputs": [],
   "source": [
    "from sklearn.decomposition import PCA\n",
    "\n",
    "pca = PCA(n_components=2)\n",
    "pca.fit(dfTest2_unaltered)\n",
    "X = pca.transform(dfTest2_unaltered)\n",
    "X1 = pca.fit(X).transform(X)"
   ]
  },
  {
   "cell_type": "code",
   "execution_count": null,
   "metadata": {
    "collapsed": true
   },
   "outputs": [],
   "source": [
    "dfTest2['PCAx'] = X1[:,0]\n",
    "dfTest2['PCAy'] = X1[:,1]"
   ]
  },
  {
   "cell_type": "code",
   "execution_count": 16,
   "metadata": {},
   "outputs": [
    {
     "ename": "NameError",
     "evalue": "name 'dfTest2' is not defined",
     "output_type": "error",
     "traceback": [
      "\u001b[1;31m---------------------------------------------------------------------------\u001b[0m",
      "\u001b[1;31mNameError\u001b[0m                                 Traceback (most recent call last)",
      "\u001b[1;32m<ipython-input-16-4d9bdf459037>\u001b[0m in \u001b[0;36m<module>\u001b[1;34m()\u001b[0m\n\u001b[1;32m----> 1\u001b[1;33m \u001b[0mg\u001b[0m \u001b[1;33m=\u001b[0m \u001b[0msns\u001b[0m\u001b[1;33m.\u001b[0m\u001b[0mlmplot\u001b[0m\u001b[1;33m(\u001b[0m\u001b[0mx\u001b[0m\u001b[1;33m=\u001b[0m\u001b[1;34m'PCAx'\u001b[0m\u001b[1;33m,\u001b[0m \u001b[0my\u001b[0m\u001b[1;33m=\u001b[0m\u001b[1;34m'PCAy'\u001b[0m\u001b[1;33m,\u001b[0m \u001b[0mdata\u001b[0m\u001b[1;33m=\u001b[0m\u001b[0mdfTest2\u001b[0m\u001b[1;33m,\u001b[0m \u001b[0mhue\u001b[0m\u001b[1;33m=\u001b[0m\u001b[1;34m'KMeansGroup'\u001b[0m\u001b[1;33m,\u001b[0m \u001b[0mci\u001b[0m\u001b[1;33m=\u001b[0m\u001b[1;32mNone\u001b[0m\u001b[1;33m,\u001b[0m \u001b[0mfit_reg\u001b[0m\u001b[1;33m=\u001b[0m\u001b[1;32mFalse\u001b[0m\u001b[1;33m)\u001b[0m\u001b[1;33m\u001b[0m\u001b[0m\n\u001b[0m",
      "\u001b[1;31mNameError\u001b[0m: name 'dfTest2' is not defined"
     ]
    }
   ],
   "source": [
    "g = sns.lmplot(x='PCAx', y='PCAy', data=dfTest2, hue='KMeansGroup', ci=None, fit_reg=False)"
   ]
  },
  {
   "cell_type": "markdown",
   "metadata": {},
   "source": [
    "Sanity check: how well do genes from first subpanel align?"
   ]
  },
  {
   "cell_type": "code",
   "execution_count": null,
   "metadata": {
    "collapsed": true
   },
   "outputs": [],
   "source": [
    "dfSP1 = pd.read_excel('subpanel1.xlsx')"
   ]
  },
  {
   "cell_type": "code",
   "execution_count": null,
   "metadata": {
    "collapsed": true,
    "scrolled": true
   },
   "outputs": [],
   "source": [
    "dfSP1['subpanel1']"
   ]
  },
  {
   "cell_type": "code",
   "execution_count": null,
   "metadata": {
    "collapsed": true
   },
   "outputs": [],
   "source": [
    "k"
   ]
  }
 ],
 "metadata": {
  "kernelspec": {
   "display_name": "Python 3",
   "language": "python",
   "name": "python3"
  },
  "language_info": {
   "codemirror_mode": {
    "name": "ipython",
    "version": 3
   },
   "file_extension": ".py",
   "mimetype": "text/x-python",
   "name": "python",
   "nbconvert_exporter": "python",
   "pygments_lexer": "ipython3",
   "version": "3.6.1"
  },
  "toc": {
   "nav_menu": {},
   "number_sections": true,
   "sideBar": true,
   "skip_h1_title": false,
   "toc_cell": false,
   "toc_position": {},
   "toc_section_display": "block",
   "toc_window_display": true
  },
  "varInspector": {
   "cols": {
    "lenName": 16,
    "lenType": 16,
    "lenVar": 40
   },
   "kernels_config": {
    "python": {
     "delete_cmd_postfix": "",
     "delete_cmd_prefix": "del ",
     "library": "var_list.py",
     "varRefreshCmd": "print(var_dic_list())"
    },
    "r": {
     "delete_cmd_postfix": ") ",
     "delete_cmd_prefix": "rm(",
     "library": "var_list.r",
     "varRefreshCmd": "cat(var_dic_list()) "
    }
   },
   "types_to_exclude": [
    "module",
    "function",
    "builtin_function_or_method",
    "instance",
    "_Feature"
   ],
   "window_display": false
  }
 },
 "nbformat": 4,
 "nbformat_minor": 2
}
